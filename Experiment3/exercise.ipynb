{
 "cells": [
  {
   "cell_type": "markdown",
   "metadata": {},
   "source": [
    "Q1"
   ]
  },
  {
   "cell_type": "code",
   "execution_count": null,
   "metadata": {},
   "outputs": [],
   "source": [
    "for i in range(1, 5):\n",
    "    for j in  range (1, 5):\n",
    "        for k in range(1, 5):\n",
    "            if i != j and j != k and i != k:\n",
    "                print(i, j, k)"
   ]
  },
  {
   "cell_type": "markdown",
   "metadata": {},
   "source": [
    "Q2"
   ]
  },
  {
   "cell_type": "code",
   "execution_count": null,
   "metadata": {},
   "outputs": [],
   "source": [
    "sub = 168\n",
    "for i in range(90):\n",
    "    for j in range (1, i):\n",
    "        if (i + j) * (i - j) == sub:\n",
    "            print(i ** 2 - 268)\n",
    "            break\n"
   ]
  },
  {
   "cell_type": "markdown",
   "metadata": {},
   "source": [
    "Q3"
   ]
  },
  {
   "cell_type": "code",
   "execution_count": null,
   "metadata": {},
   "outputs": [],
   "source": [
    "arr = []\n",
    "for i in range(3):\n",
    "    arr.append(int(input()))\n",
    "arr.sort()\n",
    "for i in range(3):\n",
    "    print(arr[i])"
   ]
  },
  {
   "cell_type": "markdown",
   "metadata": {},
   "source": [
    "Q4"
   ]
  },
  {
   "cell_type": "code",
   "execution_count": null,
   "metadata": {},
   "outputs": [],
   "source": [
    "a = 0\n",
    "b = 1\n",
    "final = int(input())\n",
    "for i in range(final):\n",
    "    print(b)\n",
    "    a, b = b, a + b"
   ]
  },
  {
   "cell_type": "markdown",
   "metadata": {},
   "source": [
    "Q5"
   ]
  },
  {
   "cell_type": "code",
   "execution_count": 1,
   "metadata": {},
   "outputs": [],
   "source": [
    "arr1 = []\n",
    "arr2 = []\n",
    "len = int(input())\n",
    "for i in range(len):\n",
    "    arr1.append(int(input()))\n",
    "arr2 = arr1[:]\n",
    "print('arr2: ')\n",
    "for i in range(len):\n",
    "    print(arr2[i])"
   ]
  },
  {
   "cell_type": "markdown",
   "metadata": {},
   "source": [
    "Q6"
   ]
  },
  {
   "cell_type": "code",
   "execution_count": null,
   "metadata": {},
   "outputs": [],
   "source": [
    "for i in range(1, 10):\n",
    "    for j in range(1, i + 1):\n",
    "        print('%d x %d = %d' % (i, j, i * j), end = \" \")\n",
    "    print('\\n')"
   ]
  },
  {
   "cell_type": "markdown",
   "metadata": {},
   "source": [
    "Q7"
   ]
  },
  {
   "cell_type": "code",
   "execution_count": null,
   "metadata": {},
   "outputs": [],
   "source": [
    "import time\n",
    "\n",
    "out = ['adsfa', 'fwdcsc']\n",
    "print(out[0])\n",
    "time.sleep(3)\n",
    "print(out[1])"
   ]
  },
  {
   "cell_type": "markdown",
   "metadata": {},
   "source": [
    "Q8"
   ]
  },
  {
   "cell_type": "code",
   "execution_count": null,
   "metadata": {},
   "outputs": [],
   "source": [
    "a, b = 1, 1\n",
    "len = int(input())\n",
    "for i in range(len):\n",
    "    a, b = b, a + b\n",
    "print(b)"
   ]
  },
  {
   "cell_type": "markdown",
   "metadata": {},
   "source": [
    "Q9"
   ]
  },
  {
   "cell_type": "code",
   "execution_count": null,
   "metadata": {},
   "outputs": [],
   "source": [
    "import math\n",
    "cnt = 0\n",
    "final = []\n",
    "for i in range(101, 201):\n",
    "    good = 0\n",
    "    for j in range(2, int(math.sqrt(i)) + 1):\n",
    "        if i % j == 0:\n",
    "            good = 1\n",
    "            break\n",
    "    if good == 0:\n",
    "        cnt += 1\n",
    "        final.append(i)\n",
    "\n",
    "print('一共有%d个素数' % cnt)\n",
    "for i in final:\n",
    "    print(i, end = \" \")"
   ]
  },
  {
   "cell_type": "markdown",
   "metadata": {},
   "source": [
    "Q10"
   ]
  },
  {
   "cell_type": "code",
   "execution_count": null,
   "metadata": {},
   "outputs": [],
   "source": [
    "for i in range(1, 10):\n",
    "    for j in range(10):\n",
    "        for k in range(10):\n",
    "            if i * 100 + j * 10 + k == i ** 3 + j ** 3 + k ** 3:\n",
    "                print(i * 100 + j * 10 + k)"
   ]
  },
  {
   "cell_type": "markdown",
   "metadata": {},
   "source": [
    "Q11"
   ]
  },
  {
   "cell_type": "code",
   "execution_count": null,
   "metadata": {},
   "outputs": [],
   "source": [
    "import math\n",
    "\n",
    "solve = {}\n",
    "num = int(input())\n",
    "origin = num\n",
    "for i in range(2, int(math.sqrt(num)) + 1):\n",
    "    if num == 1:\n",
    "        break\n",
    "    if num % i == 0:\n",
    "        solve[i] = 1\n",
    "        num /= i\n",
    "    while num % i == 0:\n",
    "        solve[i] += 1\n",
    "        num /= i\n",
    "\n",
    "if num != 1:\n",
    "    solve[num] = 1\n",
    "\n",
    "print('%d =' % origin, end = ' ')\n",
    "first = 0\n",
    "for a, b in solve.items():\n",
    "    for i in range(b):\n",
    "        if first != 0:\n",
    "            print('x %d' % a, end = ' ')\n",
    "        else:\n",
    "            print('%d' % a, end = ' ')\n",
    "            first = 1\n",
    "\n"
   ]
  },
  {
   "cell_type": "markdown",
   "metadata": {},
   "source": [
    "Q12"
   ]
  },
  {
   "cell_type": "code",
   "execution_count": null,
   "metadata": {},
   "outputs": [],
   "source": [
    "score = int(input('请输入成绩: '))\n",
    "\n",
    "if score >= 90:\n",
    "    print('A')\n",
    "elif score >= 60:\n",
    "    print('B')\n",
    "else:\n",
    "    print('C')"
   ]
  },
  {
   "cell_type": "markdown",
   "metadata": {},
   "source": [
    "Q13"
   ]
  },
  {
   "cell_type": "code",
   "execution_count": null,
   "metadata": {},
   "outputs": [],
   "source": [
    "n = int(input('请输入n的值: '))\n",
    "a = int(input('请输入a的值: '))\n",
    "\n",
    "ans = 0\n",
    "\n",
    "for i in range(n):\n",
    "    ans += (10 ** i) * a * (n - i)\n",
    "\n",
    "print(ans)"
   ]
  },
  {
   "cell_type": "markdown",
   "metadata": {},
   "source": [
    "Q14"
   ]
  },
  {
   "cell_type": "code",
   "execution_count": null,
   "metadata": {},
   "outputs": [],
   "source": [
    "import math\n",
    "\n",
    "ans = []\n",
    "for i in range(1, 1001):\n",
    "    rcd = []\n",
    "    for j in range(1, i):\n",
    "        if i % j == 0:\n",
    "            rcd.append(j)\n",
    "\n",
    "    if sum(rcd) == i:\n",
    "        ans.append(i)\n",
    "\n",
    "for i in ans:\n",
    "    print(i)"
   ]
  }
 ],
 "metadata": {
  "kernelspec": {
   "display_name": "Python 3",
   "language": "python",
   "name": "python3"
  },
  "language_info": {
   "codemirror_mode": {
    "name": "ipython",
    "version": 3
   },
   "file_extension": ".py",
   "mimetype": "text/x-python",
   "name": "python",
   "nbconvert_exporter": "python",
   "pygments_lexer": "ipython3",
   "version": "3.12.6"
  }
 },
 "nbformat": 4,
 "nbformat_minor": 2
}
